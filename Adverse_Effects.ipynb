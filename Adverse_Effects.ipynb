{
 "cells": [
  {
   "cell_type": "markdown",
   "id": "59090772-03e5-4a43-a7c7-eebdfa709342",
   "metadata": {},
   "source": [
    "# Hypothesis Testing in Healthcare: Drug Safety\n",
    "\n",
    "A pharmaceutical company GlobalXYZ has just completed a randomized controlled drug trial. To promote transparency and reproducibility of the drug's outcome, they (GlobalXYZ) have presented the dataset to your organization, a non-profit that focuses primarily on drug safety.\n",
    "\n",
    "The dataset provided contained five adverse effects, demographic data, vital signs, etc. Your organization is primarily interested in the drug's adverse reactions. It wants to know if the adverse reactions, if any, are of significant proportions. It has asked you to explore and answer some questions from the data.\n",
    "\n",
    "The dataset `drug_safety.csv` was obtained from [Hbiostat](https://hbiostat.org/data/) courtesy of the Vanderbilt University Department of Biostatistics. It contained five adverse effects: headache, abdominal pain, dyspepsia, upper respiratory infection, chronic obstructive airway disease (COAD), demographic data, vital signs, lab measures, etc. The ratio of drug observations to placebo observations is 2 to 1.\n",
    "\n",
    "For this project, the dataset has been modified to reflect the presence and absence of adverse effects `adverse_effects` and the number of adverse effects in a single individual `num_effects`.\n",
    "\n",
    "The columns in the modified dataset are: \n",
    "\n",
    "| Column | Description |\n",
    "|--------|-------------|\n",
    "|`sex` | The gender of the individual |\n",
    "|`age` | The age of the individual |\n",
    "|`week` | The week of the drug testing |\n",
    "|`trx` | The treatment (Drug) and control (Placebo) groups | \n",
    "|`wbc` | The count of white blood cells |\n",
    "|`rbc` | The count of red blood cells |\n",
    "|`adverse_effects` | The presence of at least a single adverse effect |\n",
    "|`num_effects` | The number of adverse effects experienced by a single individual |\n",
    "\n",
    "The original dataset can be found [here](https://hbiostat.org/data/repo/safety.rda)"
   ]
  },
  {
   "cell_type": "code",
   "execution_count": 1,
   "id": "29cea7fc",
   "metadata": {},
   "outputs": [],
   "source": [
    "# Import packages\n",
    "import numpy as np\n",
    "import pandas as pd\n",
    "import pingouin\n",
    "import seaborn as sns\n",
    "from sklearn import tree\n",
    "from sklearn import metrics\n",
    "import matplotlib.pyplot as plt\n",
    "from xgboost import XGBClassifier\n",
    "from imblearn.over_sampling import SMOTE\n",
    "from sklearn.feature_selection import f_classif\n",
    "from sklearn.preprocessing import LabelEncoder\n",
    "from sklearn.tree import DecisionTreeClassifier\n",
    "from statsmodels.stats.proportion import proportions_ztest\n",
    "from sklearn.feature_selection import chi2, SelectKBest\n",
    "from sklearn.neighbors import KNeighborsClassifier\n",
    "from sklearn.feature_selection import chi2, SelectKBest\n",
    "from sklearn.preprocessing import LabelEncoder, StandardScaler\n",
    "from sklearn.model_selection import train_test_split, cross_val_score #To split data\n",
    "from sklearn.ensemble import RandomForestClassifier,BaggingClassifier, VotingClassifier\n",
    "from sklearn.metrics import mean_squared_error, r2_score, precision_score, accuracy_score, f1_score, classification_report, confusion_matrix, ConfusionMatrixDisplay #For evaluating built models"
   ]
  },
  {
   "cell_type": "code",
   "execution_count": 154,
   "id": "22f963c2",
   "metadata": {},
   "outputs": [],
   "source": [
    "drug = pd.read_csv(r\"C:\\Users\\ADMIN\\Downloads\\github_com\\drug_safety.csv\")"
   ]
  },
  {
   "cell_type": "code",
   "execution_count": 155,
   "id": "5eb1acd9",
   "metadata": {},
   "outputs": [
    {
     "data": {
      "text/html": [
       "<div>\n",
       "<style scoped>\n",
       "    .dataframe tbody tr th:only-of-type {\n",
       "        vertical-align: middle;\n",
       "    }\n",
       "\n",
       "    .dataframe tbody tr th {\n",
       "        vertical-align: top;\n",
       "    }\n",
       "\n",
       "    .dataframe thead th {\n",
       "        text-align: right;\n",
       "    }\n",
       "</style>\n",
       "<table border=\"1\" class=\"dataframe\">\n",
       "  <thead>\n",
       "    <tr style=\"text-align: right;\">\n",
       "      <th></th>\n",
       "      <th>age</th>\n",
       "      <th>sex</th>\n",
       "      <th>trx</th>\n",
       "      <th>week</th>\n",
       "      <th>wbc</th>\n",
       "      <th>rbc</th>\n",
       "      <th>adverse_effects</th>\n",
       "      <th>num_effects</th>\n",
       "    </tr>\n",
       "  </thead>\n",
       "  <tbody>\n",
       "    <tr>\n",
       "      <th>0</th>\n",
       "      <td>62</td>\n",
       "      <td>male</td>\n",
       "      <td>Drug</td>\n",
       "      <td>0</td>\n",
       "      <td>7.3</td>\n",
       "      <td>5.1</td>\n",
       "      <td>No</td>\n",
       "      <td>0</td>\n",
       "    </tr>\n",
       "    <tr>\n",
       "      <th>1</th>\n",
       "      <td>62</td>\n",
       "      <td>male</td>\n",
       "      <td>Drug</td>\n",
       "      <td>1</td>\n",
       "      <td>NaN</td>\n",
       "      <td>NaN</td>\n",
       "      <td>No</td>\n",
       "      <td>0</td>\n",
       "    </tr>\n",
       "    <tr>\n",
       "      <th>2</th>\n",
       "      <td>62</td>\n",
       "      <td>male</td>\n",
       "      <td>Drug</td>\n",
       "      <td>12</td>\n",
       "      <td>5.6</td>\n",
       "      <td>5.0</td>\n",
       "      <td>No</td>\n",
       "      <td>0</td>\n",
       "    </tr>\n",
       "    <tr>\n",
       "      <th>3</th>\n",
       "      <td>62</td>\n",
       "      <td>male</td>\n",
       "      <td>Drug</td>\n",
       "      <td>16</td>\n",
       "      <td>NaN</td>\n",
       "      <td>NaN</td>\n",
       "      <td>No</td>\n",
       "      <td>0</td>\n",
       "    </tr>\n",
       "    <tr>\n",
       "      <th>4</th>\n",
       "      <td>62</td>\n",
       "      <td>male</td>\n",
       "      <td>Drug</td>\n",
       "      <td>2</td>\n",
       "      <td>6.6</td>\n",
       "      <td>5.1</td>\n",
       "      <td>No</td>\n",
       "      <td>0</td>\n",
       "    </tr>\n",
       "    <tr>\n",
       "      <th>5</th>\n",
       "      <td>62</td>\n",
       "      <td>male</td>\n",
       "      <td>Drug</td>\n",
       "      <td>20</td>\n",
       "      <td>NaN</td>\n",
       "      <td>NaN</td>\n",
       "      <td>Yes</td>\n",
       "      <td>1</td>\n",
       "    </tr>\n",
       "    <tr>\n",
       "      <th>6</th>\n",
       "      <td>62</td>\n",
       "      <td>male</td>\n",
       "      <td>Drug</td>\n",
       "      <td>4</td>\n",
       "      <td>6.9</td>\n",
       "      <td>5.2</td>\n",
       "      <td>Yes</td>\n",
       "      <td>1</td>\n",
       "    </tr>\n",
       "    <tr>\n",
       "      <th>7</th>\n",
       "      <td>62</td>\n",
       "      <td>male</td>\n",
       "      <td>Drug</td>\n",
       "      <td>8</td>\n",
       "      <td>7.1</td>\n",
       "      <td>5.0</td>\n",
       "      <td>Yes</td>\n",
       "      <td>1</td>\n",
       "    </tr>\n",
       "    <tr>\n",
       "      <th>8</th>\n",
       "      <td>69</td>\n",
       "      <td>male</td>\n",
       "      <td>Drug</td>\n",
       "      <td>0</td>\n",
       "      <td>8.8</td>\n",
       "      <td>5.1</td>\n",
       "      <td>No</td>\n",
       "      <td>0</td>\n",
       "    </tr>\n",
       "    <tr>\n",
       "      <th>9</th>\n",
       "      <td>69</td>\n",
       "      <td>male</td>\n",
       "      <td>Drug</td>\n",
       "      <td>1</td>\n",
       "      <td>NaN</td>\n",
       "      <td>NaN</td>\n",
       "      <td>No</td>\n",
       "      <td>0</td>\n",
       "    </tr>\n",
       "    <tr>\n",
       "      <th>10</th>\n",
       "      <td>69</td>\n",
       "      <td>male</td>\n",
       "      <td>Drug</td>\n",
       "      <td>12</td>\n",
       "      <td>9.0</td>\n",
       "      <td>5.1</td>\n",
       "      <td>No</td>\n",
       "      <td>0</td>\n",
       "    </tr>\n",
       "    <tr>\n",
       "      <th>11</th>\n",
       "      <td>69</td>\n",
       "      <td>male</td>\n",
       "      <td>Drug</td>\n",
       "      <td>16</td>\n",
       "      <td>NaN</td>\n",
       "      <td>NaN</td>\n",
       "      <td>No</td>\n",
       "      <td>0</td>\n",
       "    </tr>\n",
       "    <tr>\n",
       "      <th>12</th>\n",
       "      <td>69</td>\n",
       "      <td>male</td>\n",
       "      <td>Drug</td>\n",
       "      <td>2</td>\n",
       "      <td>8.1</td>\n",
       "      <td>5.2</td>\n",
       "      <td>No</td>\n",
       "      <td>0</td>\n",
       "    </tr>\n",
       "    <tr>\n",
       "      <th>13</th>\n",
       "      <td>69</td>\n",
       "      <td>male</td>\n",
       "      <td>Drug</td>\n",
       "      <td>20</td>\n",
       "      <td>NaN</td>\n",
       "      <td>NaN</td>\n",
       "      <td>No</td>\n",
       "      <td>0</td>\n",
       "    </tr>\n",
       "    <tr>\n",
       "      <th>14</th>\n",
       "      <td>69</td>\n",
       "      <td>male</td>\n",
       "      <td>Drug</td>\n",
       "      <td>4</td>\n",
       "      <td>8.9</td>\n",
       "      <td>5.1</td>\n",
       "      <td>No</td>\n",
       "      <td>0</td>\n",
       "    </tr>\n",
       "    <tr>\n",
       "      <th>15</th>\n",
       "      <td>69</td>\n",
       "      <td>male</td>\n",
       "      <td>Drug</td>\n",
       "      <td>8</td>\n",
       "      <td>8.6</td>\n",
       "      <td>5.1</td>\n",
       "      <td>No</td>\n",
       "      <td>0</td>\n",
       "    </tr>\n",
       "    <tr>\n",
       "      <th>16</th>\n",
       "      <td>67</td>\n",
       "      <td>male</td>\n",
       "      <td>Drug</td>\n",
       "      <td>0</td>\n",
       "      <td>5.9</td>\n",
       "      <td>5.5</td>\n",
       "      <td>No</td>\n",
       "      <td>0</td>\n",
       "    </tr>\n",
       "    <tr>\n",
       "      <th>17</th>\n",
       "      <td>67</td>\n",
       "      <td>male</td>\n",
       "      <td>Drug</td>\n",
       "      <td>1</td>\n",
       "      <td>NaN</td>\n",
       "      <td>NaN</td>\n",
       "      <td>No</td>\n",
       "      <td>0</td>\n",
       "    </tr>\n",
       "    <tr>\n",
       "      <th>18</th>\n",
       "      <td>67</td>\n",
       "      <td>male</td>\n",
       "      <td>Drug</td>\n",
       "      <td>12</td>\n",
       "      <td>7.1</td>\n",
       "      <td>5.1</td>\n",
       "      <td>No</td>\n",
       "      <td>0</td>\n",
       "    </tr>\n",
       "    <tr>\n",
       "      <th>19</th>\n",
       "      <td>67</td>\n",
       "      <td>male</td>\n",
       "      <td>Drug</td>\n",
       "      <td>16</td>\n",
       "      <td>NaN</td>\n",
       "      <td>NaN</td>\n",
       "      <td>No</td>\n",
       "      <td>0</td>\n",
       "    </tr>\n",
       "  </tbody>\n",
       "</table>\n",
       "</div>"
      ],
      "text/plain": [
       "    age   sex   trx  week  wbc  rbc adverse_effects  num_effects\n",
       "0    62  male  Drug     0  7.3  5.1              No            0\n",
       "1    62  male  Drug     1  NaN  NaN              No            0\n",
       "2    62  male  Drug    12  5.6  5.0              No            0\n",
       "3    62  male  Drug    16  NaN  NaN              No            0\n",
       "4    62  male  Drug     2  6.6  5.1              No            0\n",
       "5    62  male  Drug    20  NaN  NaN             Yes            1\n",
       "6    62  male  Drug     4  6.9  5.2             Yes            1\n",
       "7    62  male  Drug     8  7.1  5.0             Yes            1\n",
       "8    69  male  Drug     0  8.8  5.1              No            0\n",
       "9    69  male  Drug     1  NaN  NaN              No            0\n",
       "10   69  male  Drug    12  9.0  5.1              No            0\n",
       "11   69  male  Drug    16  NaN  NaN              No            0\n",
       "12   69  male  Drug     2  8.1  5.2              No            0\n",
       "13   69  male  Drug    20  NaN  NaN              No            0\n",
       "14   69  male  Drug     4  8.9  5.1              No            0\n",
       "15   69  male  Drug     8  8.6  5.1              No            0\n",
       "16   67  male  Drug     0  5.9  5.5              No            0\n",
       "17   67  male  Drug     1  NaN  NaN              No            0\n",
       "18   67  male  Drug    12  7.1  5.1              No            0\n",
       "19   67  male  Drug    16  NaN  NaN              No            0"
      ]
     },
     "execution_count": 155,
     "metadata": {},
     "output_type": "execute_result"
    }
   ],
   "source": [
    "drug.head(20)"
   ]
  },
  {
   "cell_type": "code",
   "execution_count": 156,
   "id": "a7e3a56b",
   "metadata": {},
   "outputs": [
    {
     "name": "stdout",
     "output_type": "stream",
     "text": [
      "<class 'pandas.core.frame.DataFrame'>\n",
      "RangeIndex: 16103 entries, 0 to 16102\n",
      "Data columns (total 8 columns):\n",
      " #   Column           Non-Null Count  Dtype  \n",
      "---  ------           --------------  -----  \n",
      " 0   age              16103 non-null  int64  \n",
      " 1   sex              16103 non-null  object \n",
      " 2   trx              16103 non-null  object \n",
      " 3   week             16103 non-null  int64  \n",
      " 4   wbc              9128 non-null   float64\n",
      " 5   rbc              9127 non-null   float64\n",
      " 6   adverse_effects  16103 non-null  object \n",
      " 7   num_effects      16103 non-null  int64  \n",
      "dtypes: float64(2), int64(3), object(3)\n",
      "memory usage: 1006.6+ KB\n"
     ]
    }
   ],
   "source": [
    "drug.info()"
   ]
  },
  {
   "cell_type": "code",
   "execution_count": 157,
   "id": "27f6a07c",
   "metadata": {},
   "outputs": [
    {
     "data": {
      "text/html": [
       "<div>\n",
       "<style scoped>\n",
       "    .dataframe tbody tr th:only-of-type {\n",
       "        vertical-align: middle;\n",
       "    }\n",
       "\n",
       "    .dataframe tbody tr th {\n",
       "        vertical-align: top;\n",
       "    }\n",
       "\n",
       "    .dataframe thead th {\n",
       "        text-align: right;\n",
       "    }\n",
       "</style>\n",
       "<table border=\"1\" class=\"dataframe\">\n",
       "  <thead>\n",
       "    <tr style=\"text-align: right;\">\n",
       "      <th></th>\n",
       "      <th>age</th>\n",
       "      <th>week</th>\n",
       "      <th>wbc</th>\n",
       "      <th>rbc</th>\n",
       "      <th>num_effects</th>\n",
       "    </tr>\n",
       "  </thead>\n",
       "  <tbody>\n",
       "    <tr>\n",
       "      <th>count</th>\n",
       "      <td>16103.000000</td>\n",
       "      <td>16103.00000</td>\n",
       "      <td>9128.000000</td>\n",
       "      <td>9127.000000</td>\n",
       "      <td>16103.000000</td>\n",
       "    </tr>\n",
       "    <tr>\n",
       "      <th>mean</th>\n",
       "      <td>64.117556</td>\n",
       "      <td>7.74098</td>\n",
       "      <td>7.340557</td>\n",
       "      <td>4.672784</td>\n",
       "      <td>0.101596</td>\n",
       "    </tr>\n",
       "    <tr>\n",
       "      <th>std</th>\n",
       "      <td>8.783207</td>\n",
       "      <td>6.94350</td>\n",
       "      <td>1.996652</td>\n",
       "      <td>0.458520</td>\n",
       "      <td>0.323181</td>\n",
       "    </tr>\n",
       "    <tr>\n",
       "      <th>min</th>\n",
       "      <td>39.000000</td>\n",
       "      <td>0.00000</td>\n",
       "      <td>1.800000</td>\n",
       "      <td>2.100000</td>\n",
       "      <td>0.000000</td>\n",
       "    </tr>\n",
       "    <tr>\n",
       "      <th>25%</th>\n",
       "      <td>58.000000</td>\n",
       "      <td>1.00000</td>\n",
       "      <td>6.000000</td>\n",
       "      <td>4.400000</td>\n",
       "      <td>0.000000</td>\n",
       "    </tr>\n",
       "    <tr>\n",
       "      <th>50%</th>\n",
       "      <td>65.000000</td>\n",
       "      <td>4.00000</td>\n",
       "      <td>7.100000</td>\n",
       "      <td>4.700000</td>\n",
       "      <td>0.000000</td>\n",
       "    </tr>\n",
       "    <tr>\n",
       "      <th>75%</th>\n",
       "      <td>71.000000</td>\n",
       "      <td>12.00000</td>\n",
       "      <td>8.400000</td>\n",
       "      <td>5.000000</td>\n",
       "      <td>0.000000</td>\n",
       "    </tr>\n",
       "    <tr>\n",
       "      <th>max</th>\n",
       "      <td>84.000000</td>\n",
       "      <td>20.00000</td>\n",
       "      <td>26.500000</td>\n",
       "      <td>7.600000</td>\n",
       "      <td>3.000000</td>\n",
       "    </tr>\n",
       "  </tbody>\n",
       "</table>\n",
       "</div>"
      ],
      "text/plain": [
       "                age         week          wbc          rbc   num_effects\n",
       "count  16103.000000  16103.00000  9128.000000  9127.000000  16103.000000\n",
       "mean      64.117556      7.74098     7.340557     4.672784      0.101596\n",
       "std        8.783207      6.94350     1.996652     0.458520      0.323181\n",
       "min       39.000000      0.00000     1.800000     2.100000      0.000000\n",
       "25%       58.000000      1.00000     6.000000     4.400000      0.000000\n",
       "50%       65.000000      4.00000     7.100000     4.700000      0.000000\n",
       "75%       71.000000     12.00000     8.400000     5.000000      0.000000\n",
       "max       84.000000     20.00000    26.500000     7.600000      3.000000"
      ]
     },
     "execution_count": 157,
     "metadata": {},
     "output_type": "execute_result"
    }
   ],
   "source": [
    "drug.describe()"
   ]
  },
  {
   "cell_type": "code",
   "execution_count": 158,
   "id": "e86f6a78",
   "metadata": {},
   "outputs": [
    {
     "data": {
      "text/plain": [
       "age                   0\n",
       "sex                   0\n",
       "trx                   0\n",
       "week                  0\n",
       "wbc                6975\n",
       "rbc                6976\n",
       "adverse_effects       0\n",
       "num_effects           0\n",
       "dtype: int64"
      ]
     },
     "execution_count": 158,
     "metadata": {},
     "output_type": "execute_result"
    }
   ],
   "source": [
    "drug.isnull().sum()"
   ]
  },
  {
   "cell_type": "code",
   "execution_count": 159,
   "id": "0cc3ded9",
   "metadata": {},
   "outputs": [
    {
     "data": {
      "image/png": "[encoded data removed]",
      "text/plain": [
       "<Figure size 1300x1400 with 1 Axes>"
      ]
     },
     "metadata": {},
     "output_type": "display_data"
    }
   ],
   "source": [
    "# Plot missing values\n",
    "ax = drug.isna().sum().sort_values().plot(kind = 'barh', figsize = (13, 14), color=['purple', 'pink'])\n",
    "plt.title('Percentage of Missing Values Per Column', fontdict={'size':15})\n",
    "for p in ax.patches:\n",
    "    percentage ='{:,.0f}%'.format((p.get_width()/drug.shape[0])*100)\n",
    "    width, height =p.get_width(),p.get_height()\n",
    "    x=p.get_x()+width+0.02\n",
    "    y=p.get_y()+height/2\n",
    "    ax.annotate(percentage,(x,y))"
   ]
  },
  {
   "cell_type": "code",
   "execution_count": 160,
   "id": "c3f1deb8",
   "metadata": {},
   "outputs": [
    {
     "data": {
      "text/plain": [
       "5791"
      ]
     },
     "execution_count": 160,
     "metadata": {},
     "output_type": "execute_result"
    }
   ],
   "source": [
    "drug.duplicated().sum()"
   ]
  },
  {
   "cell_type": "code",
   "execution_count": 161,
   "id": "4bc3677e",
   "metadata": {},
   "outputs": [
    {
     "data": {
      "text/plain": [
       "age                 44\n",
       "sex                  2\n",
       "trx                  2\n",
       "week                 8\n",
       "wbc                154\n",
       "rbc                143\n",
       "adverse_effects      2\n",
       "num_effects          4\n",
       "dtype: int64"
      ]
     },
     "execution_count": 161,
     "metadata": {},
     "output_type": "execute_result"
    }
   ],
   "source": [
    "drug.nunique()"
   ]
  },
  {
   "cell_type": "code",
   "execution_count": 162,
   "id": "be1b9ea5",
   "metadata": {},
   "outputs": [
    {
     "data": {
      "text/plain": [
       "Text(0.5, 1.0, 'Distribution of the Number of Effects Between the Groups')"
      ]
     },
     "execution_count": 162,
     "metadata": {},
     "output_type": "execute_result"
    },
    {
     "data": {
      "image/png": "[encoded data removed]",
      "text/plain": [
       "<Figure size 640x480 with 1 Axes>"
      ]
     },
     "metadata": {},
     "output_type": "display_data"
    }
   ],
   "source": [
    "# Create a countplot of num_effects vs trx\n",
    "# Store the output in plot_num_eff\n",
    "plot_num_eff = sns.countplot(x=\"num_effects\", data=drug, hue='trx')\n",
    "# Set the x axis label and title\n",
    "plt.xlabel(\"Number of Adverse Effects\")\n",
    "plt.title(\"Distribution of the Number of Effects Between the Groups\")\n"
   ]
  },
  {
   "cell_type": "code",
   "execution_count": null,
   "id": "bbabbca1",
   "metadata": {},
   "outputs": [],
   "source": []
  },
  {
   "cell_type": "code",
   "execution_count": 163,
   "id": "e98abe85",
   "metadata": {},
   "outputs": [],
   "source": [
    "# Count the adverse_effects column values for each trx group\n",
    "adv_eff_by_trx = drug.groupby(\"trx\").adverse_effects.value_counts()\n",
    "\n",
    "# Compute total rows in each group\n",
    "adv_eff_by_trx_totals = adv_eff_by_trx.groupby(\"trx\").sum()"
   ]
  },
  {
   "cell_type": "code",
   "execution_count": 164,
   "id": "67c752cb",
   "metadata": {},
   "outputs": [],
   "source": [
    "# Create an array of the \"Yes\" counts for each group\n",
    "yeses = [adv_eff_by_trx[\"Drug\"][\"Yes\"], adv_eff_by_trx[\"Placebo\"][\"Yes\"]]\n",
    "\n",
    "# Create an array of the total number of rows in each group\n",
    "n = [adv_eff_by_trx_totals[\"Drug\"], adv_eff_by_trx_totals[\"Placebo\"]]\n"
   ]
  },
  {
   "cell_type": "code",
   "execution_count": 165,
   "id": "c6927ef8",
   "metadata": {},
   "outputs": [],
   "source": [
    "# Perform a two-sided z-test on the two proportions\n",
    "two_samp_z_stat, two_samp_z_p_value = proportions_ztest(yeses, n)\n",
    "\n",
    "# Round to three decimal places\n",
    "two_samp_z_stat = np.round(two_samp_z_stat, 3)\n",
    "two_samp_z_p_value = np.round(two_samp_z_p_value, 3)"
   ]
  },
  {
   "cell_type": "code",
   "execution_count": 166,
   "id": "85eb5f65",
   "metadata": {},
   "outputs": [
    {
     "name": "stderr",
     "output_type": "stream",
     "text": [
      "C:\\Users\\ADMIN\\anaconda3_new\\Lib\\site-packages\\pingouin\\contingency.py:151: UserWarning: Low count on observed frequencies.\n",
      "  warnings.warn(f\"Low count on {name} frequencies.\")\n",
      "C:\\Users\\ADMIN\\anaconda3_new\\Lib\\site-packages\\pingouin\\contingency.py:151: UserWarning: Low count on expected frequencies.\n",
      "  warnings.warn(f\"Low count on {name} frequencies.\")\n"
     ]
    }
   ],
   "source": [
    "# Determine if num_effects and trx are independent\n",
    "expected, observed, stats = pingouin.chi2_independence(\n",
    "    data=drug, x=\"num_effects\", y=\"trx\")\n",
    "\n",
    "# Round the test statistics to three decimal places\n",
    "stats = stats.round(3)\n",
    "\n",
    "# Extract the Pearson row as pearson_num_effect_trx\n",
    "pearson_num_effect_trx = stats[stats[\"test\"] == \"pearson\"]\n"
   ]
  },
  {
   "cell_type": "code",
   "execution_count": 167,
   "id": "e14296bd",
   "metadata": {},
   "outputs": [
    {
     "data": {
      "image/png": "[encoded data removed]",
      "text/plain": [
       "<Figure size 1200x600 with 2 Axes>"
      ]
     },
     "metadata": {},
     "output_type": "display_data"
    }
   ],
   "source": [
    "# Creating histograms to visualize the distribution of ages by treatment\n",
    "# Create the plot axes. Increase the figure size\n",
    "_, (ax1, ax2) = plt.subplots(1, 2, figsize=(12, 6))\n",
    "\n",
    "# Set x and y axes labels\n",
    "xlabel = \"Age (years)\"\n",
    "ylabel = \"Frequency\"\n",
    "\n",
    "# The Drug group's age distribution\n",
    "ax1.hist(x=\"age\", data=drug[drug[\"trx\"] == \"Drug\"], bins=30)\n",
    "ax1.set_xlabel(xlabel)\n",
    "ax1.set_ylabel(ylabel)\n",
    "ax1.set_title(\"Distribution of Age in the Drug Group\")\n",
    "\n",
    "# The Placebo group's age distribution\n",
    "ax2.hist(x=\"age\", data=drug[drug[\"trx\"] == \"Placebo\"], bins=30)\n",
    "ax2.set_xlabel(xlabel)\n",
    "ax2.set_ylabel(ylabel)\n",
    "ax2.set_title(\"Distribution of Age in the Placebo Group\")\n",
    "\n",
    "# Select the age of the Drug group\n",
    "age_trx = drug.loc[drug[\"trx\"] == \"Drug\", \"age\"]\n",
    "\n",
    "# Select the age of the Placebo group\n",
    "age_placebo = drug.loc[drug[\"trx\"] == \"Placebo\", \"age\"]\n",
    "\n",
    "# The distributions strongly suggest a\n",
    "# non-parametric independent samples test.\n",
    "# Conduct a two-sided Wilcoxon-Mann-Whitney test\n",
    "# and round to three decimal places\n",
    "two_ind_samp_results = pingouin.mwu(age_trx, age_placebo).round(3)"
   ]
  },
  {
   "cell_type": "code",
   "execution_count": 168,
   "id": "9a20b2a8",
   "metadata": {},
   "outputs": [],
   "source": [
    "# The distributions strongly suggest a non-parametric independent samples test.\n",
    "# Conduct a two-sided Wilcoxon-Mann-Whitney test and round to three decimal places\n",
    "two_ind_samp_results = pingouin.mwu(age_trx, age_placebo).round(3)"
   ]
  },
  {
   "cell_type": "markdown",
   "id": "2fe668d0",
   "metadata": {},
   "source": [
    "## Handling missing values"
   ]
  },
  {
   "cell_type": "code",
   "execution_count": 169,
   "id": "e324b1c4",
   "metadata": {},
   "outputs": [],
   "source": [
    "#Handling missing values\n",
    "drug[\"wbc\"].fillna(drug[\"wbc\"].mean(), inplace = True) "
   ]
  },
  {
   "cell_type": "code",
   "execution_count": 170,
   "id": "43de9d02",
   "metadata": {},
   "outputs": [],
   "source": [
    "#Handling missing values\n",
    "drug[\"rbc\"].fillna(drug[\"rbc\"].mean(), inplace = True) "
   ]
  },
  {
   "cell_type": "code",
   "execution_count": 171,
   "id": "58bb826a",
   "metadata": {},
   "outputs": [
    {
     "data": {
      "text/plain": [
       "age                0\n",
       "sex                0\n",
       "trx                0\n",
       "week               0\n",
       "wbc                0\n",
       "rbc                0\n",
       "adverse_effects    0\n",
       "num_effects        0\n",
       "dtype: int64"
      ]
     },
     "execution_count": 171,
     "metadata": {},
     "output_type": "execute_result"
    }
   ],
   "source": [
    "drug.isnull().sum()"
   ]
  },
  {
   "cell_type": "code",
   "execution_count": 172,
   "id": "3e0edda5",
   "metadata": {},
   "outputs": [],
   "source": [
    "drug.loc[:,  [\"sex\",\"trx\",\"adverse_effects\"]] = drug[[\"sex\",\"trx\",\"adverse_effects\"]].apply(LabelEncoder().fit_transform)"
   ]
  },
  {
   "cell_type": "code",
   "execution_count": 173,
   "id": "202591f0",
   "metadata": {},
   "outputs": [
    {
     "data": {
      "text/html": [
       "<div>\n",
       "<style scoped>\n",
       "    .dataframe tbody tr th:only-of-type {\n",
       "        vertical-align: middle;\n",
       "    }\n",
       "\n",
       "    .dataframe tbody tr th {\n",
       "        vertical-align: top;\n",
       "    }\n",
       "\n",
       "    .dataframe thead th {\n",
       "        text-align: right;\n",
       "    }\n",
       "</style>\n",
       "<table border=\"1\" class=\"dataframe\">\n",
       "  <thead>\n",
       "    <tr style=\"text-align: right;\">\n",
       "      <th></th>\n",
       "      <th>age</th>\n",
       "      <th>sex</th>\n",
       "      <th>trx</th>\n",
       "      <th>week</th>\n",
       "      <th>wbc</th>\n",
       "      <th>rbc</th>\n",
       "      <th>adverse_effects</th>\n",
       "      <th>num_effects</th>\n",
       "    </tr>\n",
       "  </thead>\n",
       "  <tbody>\n",
       "    <tr>\n",
       "      <th>0</th>\n",
       "      <td>62</td>\n",
       "      <td>1</td>\n",
       "      <td>0</td>\n",
       "      <td>0</td>\n",
       "      <td>7.300000</td>\n",
       "      <td>5.100000</td>\n",
       "      <td>0</td>\n",
       "      <td>0</td>\n",
       "    </tr>\n",
       "    <tr>\n",
       "      <th>1</th>\n",
       "      <td>62</td>\n",
       "      <td>1</td>\n",
       "      <td>0</td>\n",
       "      <td>1</td>\n",
       "      <td>7.340557</td>\n",
       "      <td>4.672784</td>\n",
       "      <td>0</td>\n",
       "      <td>0</td>\n",
       "    </tr>\n",
       "    <tr>\n",
       "      <th>2</th>\n",
       "      <td>62</td>\n",
       "      <td>1</td>\n",
       "      <td>0</td>\n",
       "      <td>12</td>\n",
       "      <td>5.600000</td>\n",
       "      <td>5.000000</td>\n",
       "      <td>0</td>\n",
       "      <td>0</td>\n",
       "    </tr>\n",
       "    <tr>\n",
       "      <th>3</th>\n",
       "      <td>62</td>\n",
       "      <td>1</td>\n",
       "      <td>0</td>\n",
       "      <td>16</td>\n",
       "      <td>7.340557</td>\n",
       "      <td>4.672784</td>\n",
       "      <td>0</td>\n",
       "      <td>0</td>\n",
       "    </tr>\n",
       "    <tr>\n",
       "      <th>4</th>\n",
       "      <td>62</td>\n",
       "      <td>1</td>\n",
       "      <td>0</td>\n",
       "      <td>2</td>\n",
       "      <td>6.600000</td>\n",
       "      <td>5.100000</td>\n",
       "      <td>0</td>\n",
       "      <td>0</td>\n",
       "    </tr>\n",
       "    <tr>\n",
       "      <th>5</th>\n",
       "      <td>62</td>\n",
       "      <td>1</td>\n",
       "      <td>0</td>\n",
       "      <td>20</td>\n",
       "      <td>7.340557</td>\n",
       "      <td>4.672784</td>\n",
       "      <td>1</td>\n",
       "      <td>1</td>\n",
       "    </tr>\n",
       "    <tr>\n",
       "      <th>6</th>\n",
       "      <td>62</td>\n",
       "      <td>1</td>\n",
       "      <td>0</td>\n",
       "      <td>4</td>\n",
       "      <td>6.900000</td>\n",
       "      <td>5.200000</td>\n",
       "      <td>1</td>\n",
       "      <td>1</td>\n",
       "    </tr>\n",
       "    <tr>\n",
       "      <th>7</th>\n",
       "      <td>62</td>\n",
       "      <td>1</td>\n",
       "      <td>0</td>\n",
       "      <td>8</td>\n",
       "      <td>7.100000</td>\n",
       "      <td>5.000000</td>\n",
       "      <td>1</td>\n",
       "      <td>1</td>\n",
       "    </tr>\n",
       "    <tr>\n",
       "      <th>8</th>\n",
       "      <td>69</td>\n",
       "      <td>1</td>\n",
       "      <td>0</td>\n",
       "      <td>0</td>\n",
       "      <td>8.800000</td>\n",
       "      <td>5.100000</td>\n",
       "      <td>0</td>\n",
       "      <td>0</td>\n",
       "    </tr>\n",
       "    <tr>\n",
       "      <th>9</th>\n",
       "      <td>69</td>\n",
       "      <td>1</td>\n",
       "      <td>0</td>\n",
       "      <td>1</td>\n",
       "      <td>7.340557</td>\n",
       "      <td>4.672784</td>\n",
       "      <td>0</td>\n",
       "      <td>0</td>\n",
       "    </tr>\n",
       "    <tr>\n",
       "      <th>10</th>\n",
       "      <td>69</td>\n",
       "      <td>1</td>\n",
       "      <td>0</td>\n",
       "      <td>12</td>\n",
       "      <td>9.000000</td>\n",
       "      <td>5.100000</td>\n",
       "      <td>0</td>\n",
       "      <td>0</td>\n",
       "    </tr>\n",
       "    <tr>\n",
       "      <th>11</th>\n",
       "      <td>69</td>\n",
       "      <td>1</td>\n",
       "      <td>0</td>\n",
       "      <td>16</td>\n",
       "      <td>7.340557</td>\n",
       "      <td>4.672784</td>\n",
       "      <td>0</td>\n",
       "      <td>0</td>\n",
       "    </tr>\n",
       "    <tr>\n",
       "      <th>12</th>\n",
       "      <td>69</td>\n",
       "      <td>1</td>\n",
       "      <td>0</td>\n",
       "      <td>2</td>\n",
       "      <td>8.100000</td>\n",
       "      <td>5.200000</td>\n",
       "      <td>0</td>\n",
       "      <td>0</td>\n",
       "    </tr>\n",
       "    <tr>\n",
       "      <th>13</th>\n",
       "      <td>69</td>\n",
       "      <td>1</td>\n",
       "      <td>0</td>\n",
       "      <td>20</td>\n",
       "      <td>7.340557</td>\n",
       "      <td>4.672784</td>\n",
       "      <td>0</td>\n",
       "      <td>0</td>\n",
       "    </tr>\n",
       "    <tr>\n",
       "      <th>14</th>\n",
       "      <td>69</td>\n",
       "      <td>1</td>\n",
       "      <td>0</td>\n",
       "      <td>4</td>\n",
       "      <td>8.900000</td>\n",
       "      <td>5.100000</td>\n",
       "      <td>0</td>\n",
       "      <td>0</td>\n",
       "    </tr>\n",
       "    <tr>\n",
       "      <th>15</th>\n",
       "      <td>69</td>\n",
       "      <td>1</td>\n",
       "      <td>0</td>\n",
       "      <td>8</td>\n",
       "      <td>8.600000</td>\n",
       "      <td>5.100000</td>\n",
       "      <td>0</td>\n",
       "      <td>0</td>\n",
       "    </tr>\n",
       "    <tr>\n",
       "      <th>16</th>\n",
       "      <td>67</td>\n",
       "      <td>1</td>\n",
       "      <td>0</td>\n",
       "      <td>0</td>\n",
       "      <td>5.900000</td>\n",
       "      <td>5.500000</td>\n",
       "      <td>0</td>\n",
       "      <td>0</td>\n",
       "    </tr>\n",
       "    <tr>\n",
       "      <th>17</th>\n",
       "      <td>67</td>\n",
       "      <td>1</td>\n",
       "      <td>0</td>\n",
       "      <td>1</td>\n",
       "      <td>7.340557</td>\n",
       "      <td>4.672784</td>\n",
       "      <td>0</td>\n",
       "      <td>0</td>\n",
       "    </tr>\n",
       "    <tr>\n",
       "      <th>18</th>\n",
       "      <td>67</td>\n",
       "      <td>1</td>\n",
       "      <td>0</td>\n",
       "      <td>12</td>\n",
       "      <td>7.100000</td>\n",
       "      <td>5.100000</td>\n",
       "      <td>0</td>\n",
       "      <td>0</td>\n",
       "    </tr>\n",
       "    <tr>\n",
       "      <th>19</th>\n",
       "      <td>67</td>\n",
       "      <td>1</td>\n",
       "      <td>0</td>\n",
       "      <td>16</td>\n",
       "      <td>7.340557</td>\n",
       "      <td>4.672784</td>\n",
       "      <td>0</td>\n",
       "      <td>0</td>\n",
       "    </tr>\n",
       "  </tbody>\n",
       "</table>\n",
       "</div>"
      ],
      "text/plain": [
       "    age sex trx  week       wbc       rbc adverse_effects  num_effects\n",
       "0    62   1   0     0  7.300000  5.100000               0            0\n",
       "1    62   1   0     1  7.340557  4.672784               0            0\n",
       "2    62   1   0    12  5.600000  5.000000               0            0\n",
       "3    62   1   0    16  7.340557  4.672784               0            0\n",
       "4    62   1   0     2  6.600000  5.100000               0            0\n",
       "5    62   1   0    20  7.340557  4.672784               1            1\n",
       "6    62   1   0     4  6.900000  5.200000               1            1\n",
       "7    62   1   0     8  7.100000  5.000000               1            1\n",
       "8    69   1   0     0  8.800000  5.100000               0            0\n",
       "9    69   1   0     1  7.340557  4.672784               0            0\n",
       "10   69   1   0    12  9.000000  5.100000               0            0\n",
       "11   69   1   0    16  7.340557  4.672784               0            0\n",
       "12   69   1   0     2  8.100000  5.200000               0            0\n",
       "13   69   1   0    20  7.340557  4.672784               0            0\n",
       "14   69   1   0     4  8.900000  5.100000               0            0\n",
       "15   69   1   0     8  8.600000  5.100000               0            0\n",
       "16   67   1   0     0  5.900000  5.500000               0            0\n",
       "17   67   1   0     1  7.340557  4.672784               0            0\n",
       "18   67   1   0    12  7.100000  5.100000               0            0\n",
       "19   67   1   0    16  7.340557  4.672784               0            0"
      ]
     },
     "execution_count": 173,
     "metadata": {},
     "output_type": "execute_result"
    }
   ],
   "source": [
    "drug.head(20)"
   ]
  },
  {
   "cell_type": "markdown",
   "id": "22d5a443",
   "metadata": {},
   "source": [
    "**Insights:**\n",
    "- Sex: Male is 1 and Female is 0\n",
    "- Drug: Drug is 0 and Placebo is 0"
   ]
  },
  {
   "cell_type": "code",
   "execution_count": 174,
   "id": "ae0af6f2",
   "metadata": {},
   "outputs": [
    {
     "data": {
      "image/png": "[encoded data removed]",
      "text/plain": [
       "<Figure size 1100x700 with 2 Axes>"
      ]
     },
     "metadata": {},
     "output_type": "display_data"
    }
   ],
   "source": [
    "corel= drug.corr()\n",
    "\n",
    "plt.figure(figsize=(11,7))\n",
    "sns.heatmap(corel, annot=True, cmap=\"coolwarm\", fmt=\".2f\")\n",
    "plt.title(f\"Correlation matrix for body fat\")\n",
    "plt.show()"
   ]
  },
  {
   "cell_type": "markdown",
   "id": "85c66722",
   "metadata": {},
   "source": [
    "### Feature Importance"
   ]
  },
  {
   "cell_type": "code",
   "execution_count": 175,
   "id": "c8e9983b",
   "metadata": {},
   "outputs": [
    {
     "data": {
      "text/html": [
       "<div>\n",
       "<style scoped>\n",
       "    .dataframe tbody tr th:only-of-type {\n",
       "        vertical-align: middle;\n",
       "    }\n",
       "\n",
       "    .dataframe tbody tr th {\n",
       "        vertical-align: top;\n",
       "    }\n",
       "\n",
       "    .dataframe thead th {\n",
       "        text-align: right;\n",
       "    }\n",
       "</style>\n",
       "<table border=\"1\" class=\"dataframe\">\n",
       "  <thead>\n",
       "    <tr style=\"text-align: right;\">\n",
       "      <th></th>\n",
       "      <th>features</th>\n",
       "      <th>scores</th>\n",
       "    </tr>\n",
       "  </thead>\n",
       "  <tbody>\n",
       "    <tr>\n",
       "      <th>0</th>\n",
       "      <td>age</td>\n",
       "      <td>0.425487</td>\n",
       "    </tr>\n",
       "    <tr>\n",
       "      <th>1</th>\n",
       "      <td>sex</td>\n",
       "      <td>22.535937</td>\n",
       "    </tr>\n",
       "    <tr>\n",
       "      <th>2</th>\n",
       "      <td>trx</td>\n",
       "      <td>0.002044</td>\n",
       "    </tr>\n",
       "    <tr>\n",
       "      <th>3</th>\n",
       "      <td>week</td>\n",
       "      <td>13.592291</td>\n",
       "    </tr>\n",
       "    <tr>\n",
       "      <th>4</th>\n",
       "      <td>wbc</td>\n",
       "      <td>18.768074</td>\n",
       "    </tr>\n",
       "    <tr>\n",
       "      <th>5</th>\n",
       "      <td>rbc</td>\n",
       "      <td>0.069185</td>\n",
       "    </tr>\n",
       "    <tr>\n",
       "      <th>6</th>\n",
       "      <td>num_effects</td>\n",
       "      <td>240592.443716</td>\n",
       "    </tr>\n",
       "  </tbody>\n",
       "</table>\n",
       "</div>"
      ],
      "text/plain": [
       "      features         scores\n",
       "0          age       0.425487\n",
       "1          sex      22.535937\n",
       "2          trx       0.002044\n",
       "3         week      13.592291\n",
       "4          wbc      18.768074\n",
       "5          rbc       0.069185\n",
       "6  num_effects  240592.443716"
      ]
     },
     "execution_count": 175,
     "metadata": {},
     "output_type": "execute_result"
    }
   ],
   "source": [
    "# Checking for feature importance\n",
    "drug1 = drug.copy()\n",
    "\n",
    "X = drug1.drop('adverse_effects', axis=1)\n",
    "y= drug1['adverse_effects']\n",
    "\n",
    "best_features = SelectKBest(score_func=f_classif, k='all')\n",
    "fit = best_features.fit(X, y)\n",
    "df_scores = pd.DataFrame(fit.scores_)\n",
    "df_columns = pd.DataFrame(X.columns)\n",
    "feature_scores = pd.concat([df_columns,df_scores],axis=1)\n",
    "feature_scores.columns = ['features','scores']\n",
    "feature_scores"
   ]
  },
  {
   "cell_type": "markdown",
   "id": "e3eaca4a",
   "metadata": {},
   "source": [
    "### Dropping over correlating column to avoid overfitting"
   ]
  },
  {
   "cell_type": "code",
   "execution_count": 193,
   "id": "5ff706c7",
   "metadata": {},
   "outputs": [],
   "source": [
    "drug = drug.drop(columns =['num_effects'])"
   ]
  },
  {
   "cell_type": "code",
   "execution_count": 194,
   "id": "73e97a53",
   "metadata": {},
   "outputs": [
    {
     "data": {
      "text/html": [
       "<div>\n",
       "<style scoped>\n",
       "    .dataframe tbody tr th:only-of-type {\n",
       "        vertical-align: middle;\n",
       "    }\n",
       "\n",
       "    .dataframe tbody tr th {\n",
       "        vertical-align: top;\n",
       "    }\n",
       "\n",
       "    .dataframe thead th {\n",
       "        text-align: right;\n",
       "    }\n",
       "</style>\n",
       "<table border=\"1\" class=\"dataframe\">\n",
       "  <thead>\n",
       "    <tr style=\"text-align: right;\">\n",
       "      <th></th>\n",
       "      <th>age</th>\n",
       "      <th>sex</th>\n",
       "      <th>trx</th>\n",
       "      <th>week</th>\n",
       "      <th>wbc</th>\n",
       "      <th>rbc</th>\n",
       "      <th>adverse_effects</th>\n",
       "    </tr>\n",
       "  </thead>\n",
       "  <tbody>\n",
       "    <tr>\n",
       "      <th>0</th>\n",
       "      <td>62</td>\n",
       "      <td>1</td>\n",
       "      <td>0</td>\n",
       "      <td>0</td>\n",
       "      <td>7.300000</td>\n",
       "      <td>5.100000</td>\n",
       "      <td>0</td>\n",
       "    </tr>\n",
       "    <tr>\n",
       "      <th>1</th>\n",
       "      <td>62</td>\n",
       "      <td>1</td>\n",
       "      <td>0</td>\n",
       "      <td>1</td>\n",
       "      <td>7.340557</td>\n",
       "      <td>4.672784</td>\n",
       "      <td>0</td>\n",
       "    </tr>\n",
       "    <tr>\n",
       "      <th>2</th>\n",
       "      <td>62</td>\n",
       "      <td>1</td>\n",
       "      <td>0</td>\n",
       "      <td>12</td>\n",
       "      <td>5.600000</td>\n",
       "      <td>5.000000</td>\n",
       "      <td>0</td>\n",
       "    </tr>\n",
       "    <tr>\n",
       "      <th>3</th>\n",
       "      <td>62</td>\n",
       "      <td>1</td>\n",
       "      <td>0</td>\n",
       "      <td>16</td>\n",
       "      <td>7.340557</td>\n",
       "      <td>4.672784</td>\n",
       "      <td>0</td>\n",
       "    </tr>\n",
       "    <tr>\n",
       "      <th>4</th>\n",
       "      <td>62</td>\n",
       "      <td>1</td>\n",
       "      <td>0</td>\n",
       "      <td>2</td>\n",
       "      <td>6.600000</td>\n",
       "      <td>5.100000</td>\n",
       "      <td>0</td>\n",
       "    </tr>\n",
       "    <tr>\n",
       "      <th>...</th>\n",
       "      <td>...</td>\n",
       "      <td>...</td>\n",
       "      <td>...</td>\n",
       "      <td>...</td>\n",
       "      <td>...</td>\n",
       "      <td>...</td>\n",
       "      <td>...</td>\n",
       "    </tr>\n",
       "    <tr>\n",
       "      <th>16098</th>\n",
       "      <td>78</td>\n",
       "      <td>1</td>\n",
       "      <td>1</td>\n",
       "      <td>16</td>\n",
       "      <td>7.340557</td>\n",
       "      <td>4.672784</td>\n",
       "      <td>1</td>\n",
       "    </tr>\n",
       "    <tr>\n",
       "      <th>16099</th>\n",
       "      <td>78</td>\n",
       "      <td>1</td>\n",
       "      <td>1</td>\n",
       "      <td>2</td>\n",
       "      <td>7.500000</td>\n",
       "      <td>4.900000</td>\n",
       "      <td>0</td>\n",
       "    </tr>\n",
       "    <tr>\n",
       "      <th>16100</th>\n",
       "      <td>78</td>\n",
       "      <td>1</td>\n",
       "      <td>1</td>\n",
       "      <td>20</td>\n",
       "      <td>7.340557</td>\n",
       "      <td>4.672784</td>\n",
       "      <td>1</td>\n",
       "    </tr>\n",
       "    <tr>\n",
       "      <th>16101</th>\n",
       "      <td>78</td>\n",
       "      <td>1</td>\n",
       "      <td>1</td>\n",
       "      <td>4</td>\n",
       "      <td>6.400000</td>\n",
       "      <td>4.800000</td>\n",
       "      <td>0</td>\n",
       "    </tr>\n",
       "    <tr>\n",
       "      <th>16102</th>\n",
       "      <td>78</td>\n",
       "      <td>1</td>\n",
       "      <td>1</td>\n",
       "      <td>8</td>\n",
       "      <td>7.800000</td>\n",
       "      <td>4.800000</td>\n",
       "      <td>0</td>\n",
       "    </tr>\n",
       "  </tbody>\n",
       "</table>\n",
       "<p>16103 rows × 7 columns</p>\n",
       "</div>"
      ],
      "text/plain": [
       "       age sex trx  week       wbc       rbc adverse_effects\n",
       "0       62   1   0     0  7.300000  5.100000               0\n",
       "1       62   1   0     1  7.340557  4.672784               0\n",
       "2       62   1   0    12  5.600000  5.000000               0\n",
       "3       62   1   0    16  7.340557  4.672784               0\n",
       "4       62   1   0     2  6.600000  5.100000               0\n",
       "...    ...  ..  ..   ...       ...       ...             ...\n",
       "16098   78   1   1    16  7.340557  4.672784               1\n",
       "16099   78   1   1     2  7.500000  4.900000               0\n",
       "16100   78   1   1    20  7.340557  4.672784               1\n",
       "16101   78   1   1     4  6.400000  4.800000               0\n",
       "16102   78   1   1     8  7.800000  4.800000               0\n",
       "\n",
       "[16103 rows x 7 columns]"
      ]
     },
     "execution_count": 194,
     "metadata": {},
     "output_type": "execute_result"
    }
   ],
   "source": [
    "drug"
   ]
  },
  {
   "cell_type": "markdown",
   "id": "8bb9a21c",
   "metadata": {},
   "source": [
    "## Model Building"
   ]
  },
  {
   "cell_type": "code",
   "execution_count": 195,
   "id": "861f160f",
   "metadata": {},
   "outputs": [],
   "source": [
    "X = drug.drop('adverse_effects',axis=1)\n",
    "y= drug['adverse_effects']"
   ]
  },
  {
   "cell_type": "code",
   "execution_count": 196,
   "id": "fd9a65c7",
   "metadata": {},
   "outputs": [
    {
     "data": {
      "text/html": [
       "<div>\n",
       "<style scoped>\n",
       "    .dataframe tbody tr th:only-of-type {\n",
       "        vertical-align: middle;\n",
       "    }\n",
       "\n",
       "    .dataframe tbody tr th {\n",
       "        vertical-align: top;\n",
       "    }\n",
       "\n",
       "    .dataframe thead th {\n",
       "        text-align: right;\n",
       "    }\n",
       "</style>\n",
       "<table border=\"1\" class=\"dataframe\">\n",
       "  <thead>\n",
       "    <tr style=\"text-align: right;\">\n",
       "      <th></th>\n",
       "      <th>age</th>\n",
       "      <th>sex</th>\n",
       "      <th>trx</th>\n",
       "      <th>week</th>\n",
       "      <th>wbc</th>\n",
       "      <th>rbc</th>\n",
       "    </tr>\n",
       "  </thead>\n",
       "  <tbody>\n",
       "    <tr>\n",
       "      <th>0</th>\n",
       "      <td>62</td>\n",
       "      <td>1</td>\n",
       "      <td>0</td>\n",
       "      <td>0</td>\n",
       "      <td>7.300000</td>\n",
       "      <td>5.100000</td>\n",
       "    </tr>\n",
       "    <tr>\n",
       "      <th>1</th>\n",
       "      <td>62</td>\n",
       "      <td>1</td>\n",
       "      <td>0</td>\n",
       "      <td>1</td>\n",
       "      <td>7.340557</td>\n",
       "      <td>4.672784</td>\n",
       "    </tr>\n",
       "    <tr>\n",
       "      <th>2</th>\n",
       "      <td>62</td>\n",
       "      <td>1</td>\n",
       "      <td>0</td>\n",
       "      <td>12</td>\n",
       "      <td>5.600000</td>\n",
       "      <td>5.000000</td>\n",
       "    </tr>\n",
       "    <tr>\n",
       "      <th>3</th>\n",
       "      <td>62</td>\n",
       "      <td>1</td>\n",
       "      <td>0</td>\n",
       "      <td>16</td>\n",
       "      <td>7.340557</td>\n",
       "      <td>4.672784</td>\n",
       "    </tr>\n",
       "    <tr>\n",
       "      <th>4</th>\n",
       "      <td>62</td>\n",
       "      <td>1</td>\n",
       "      <td>0</td>\n",
       "      <td>2</td>\n",
       "      <td>6.600000</td>\n",
       "      <td>5.100000</td>\n",
       "    </tr>\n",
       "  </tbody>\n",
       "</table>\n",
       "</div>"
      ],
      "text/plain": [
       "   age sex trx  week       wbc       rbc\n",
       "0   62   1   0     0  7.300000  5.100000\n",
       "1   62   1   0     1  7.340557  4.672784\n",
       "2   62   1   0    12  5.600000  5.000000\n",
       "3   62   1   0    16  7.340557  4.672784\n",
       "4   62   1   0     2  6.600000  5.100000"
      ]
     },
     "execution_count": 196,
     "metadata": {},
     "output_type": "execute_result"
    }
   ],
   "source": [
    "X.head()"
   ]
  },
  {
   "cell_type": "code",
   "execution_count": 197,
   "id": "1d68cda3",
   "metadata": {},
   "outputs": [
    {
     "data": {
      "text/plain": [
       "((16103, 6), (16103,))"
      ]
     },
     "execution_count": 197,
     "metadata": {},
     "output_type": "execute_result"
    }
   ],
   "source": [
    "X.shape, y.shape"
   ]
  },
  {
   "cell_type": "code",
   "execution_count": 198,
   "id": "953efec4",
   "metadata": {},
   "outputs": [],
   "source": [
    "#Converting our y_train and y_test to integer from object\n",
    "y = y.astype(int)"
   ]
  },
  {
   "cell_type": "markdown",
   "id": "a6b87bd1",
   "metadata": {},
   "source": [
    "### Balancing of the dataset."
   ]
  },
  {
   "cell_type": "code",
   "execution_count": 199,
   "id": "cf989b38",
   "metadata": {},
   "outputs": [],
   "source": [
    "smote = SMOTE(random_state=42)\n",
    "X_train_balanced, y_train_balanced = smote.fit_resample(X, y)\n"
   ]
  },
  {
   "cell_type": "code",
   "execution_count": 200,
   "id": "d42c0d98",
   "metadata": {},
   "outputs": [
    {
     "data": {
      "text/html": [
       "<div>\n",
       "<style scoped>\n",
       "    .dataframe tbody tr th:only-of-type {\n",
       "        vertical-align: middle;\n",
       "    }\n",
       "\n",
       "    .dataframe tbody tr th {\n",
       "        vertical-align: top;\n",
       "    }\n",
       "\n",
       "    .dataframe thead th {\n",
       "        text-align: right;\n",
       "    }\n",
       "</style>\n",
       "<table border=\"1\" class=\"dataframe\">\n",
       "  <thead>\n",
       "    <tr style=\"text-align: right;\">\n",
       "      <th></th>\n",
       "      <th>age</th>\n",
       "      <th>sex</th>\n",
       "      <th>trx</th>\n",
       "      <th>week</th>\n",
       "      <th>wbc</th>\n",
       "      <th>rbc</th>\n",
       "    </tr>\n",
       "  </thead>\n",
       "  <tbody>\n",
       "    <tr>\n",
       "      <th>0</th>\n",
       "      <td>62</td>\n",
       "      <td>1.0</td>\n",
       "      <td>0.0</td>\n",
       "      <td>0</td>\n",
       "      <td>7.300000</td>\n",
       "      <td>5.100000</td>\n",
       "    </tr>\n",
       "    <tr>\n",
       "      <th>1</th>\n",
       "      <td>62</td>\n",
       "      <td>1.0</td>\n",
       "      <td>0.0</td>\n",
       "      <td>1</td>\n",
       "      <td>7.340557</td>\n",
       "      <td>4.672784</td>\n",
       "    </tr>\n",
       "    <tr>\n",
       "      <th>2</th>\n",
       "      <td>62</td>\n",
       "      <td>1.0</td>\n",
       "      <td>0.0</td>\n",
       "      <td>12</td>\n",
       "      <td>5.600000</td>\n",
       "      <td>5.000000</td>\n",
       "    </tr>\n",
       "    <tr>\n",
       "      <th>3</th>\n",
       "      <td>62</td>\n",
       "      <td>1.0</td>\n",
       "      <td>0.0</td>\n",
       "      <td>16</td>\n",
       "      <td>7.340557</td>\n",
       "      <td>4.672784</td>\n",
       "    </tr>\n",
       "    <tr>\n",
       "      <th>4</th>\n",
       "      <td>62</td>\n",
       "      <td>1.0</td>\n",
       "      <td>0.0</td>\n",
       "      <td>2</td>\n",
       "      <td>6.600000</td>\n",
       "      <td>5.100000</td>\n",
       "    </tr>\n",
       "    <tr>\n",
       "      <th>...</th>\n",
       "      <td>...</td>\n",
       "      <td>...</td>\n",
       "      <td>...</td>\n",
       "      <td>...</td>\n",
       "      <td>...</td>\n",
       "      <td>...</td>\n",
       "    </tr>\n",
       "    <tr>\n",
       "      <th>29129</th>\n",
       "      <td>48</td>\n",
       "      <td>0.0</td>\n",
       "      <td>0.362367</td>\n",
       "      <td>16</td>\n",
       "      <td>7.340557</td>\n",
       "      <td>4.672784</td>\n",
       "    </tr>\n",
       "    <tr>\n",
       "      <th>29130</th>\n",
       "      <td>64</td>\n",
       "      <td>1.0</td>\n",
       "      <td>0.693303</td>\n",
       "      <td>4</td>\n",
       "      <td>4.853348</td>\n",
       "      <td>4.284018</td>\n",
       "    </tr>\n",
       "    <tr>\n",
       "      <th>29131</th>\n",
       "      <td>77</td>\n",
       "      <td>1.0</td>\n",
       "      <td>0.857963</td>\n",
       "      <td>12</td>\n",
       "      <td>6.643760</td>\n",
       "      <td>4.357389</td>\n",
       "    </tr>\n",
       "    <tr>\n",
       "      <th>29132</th>\n",
       "      <td>72</td>\n",
       "      <td>0.395597</td>\n",
       "      <td>0.395597</td>\n",
       "      <td>12</td>\n",
       "      <td>7.158239</td>\n",
       "      <td>4.437358</td>\n",
       "    </tr>\n",
       "    <tr>\n",
       "      <th>29133</th>\n",
       "      <td>68</td>\n",
       "      <td>1.0</td>\n",
       "      <td>0.0</td>\n",
       "      <td>16</td>\n",
       "      <td>7.418035</td>\n",
       "      <td>4.643646</td>\n",
       "    </tr>\n",
       "  </tbody>\n",
       "</table>\n",
       "<p>29134 rows × 6 columns</p>\n",
       "</div>"
      ],
      "text/plain": [
       "       age       sex       trx  week       wbc       rbc\n",
       "0       62       1.0       0.0     0  7.300000  5.100000\n",
       "1       62       1.0       0.0     1  7.340557  4.672784\n",
       "2       62       1.0       0.0    12  5.600000  5.000000\n",
       "3       62       1.0       0.0    16  7.340557  4.672784\n",
       "4       62       1.0       0.0     2  6.600000  5.100000\n",
       "...    ...       ...       ...   ...       ...       ...\n",
       "29129   48       0.0  0.362367    16  7.340557  4.672784\n",
       "29130   64       1.0  0.693303     4  4.853348  4.284018\n",
       "29131   77       1.0  0.857963    12  6.643760  4.357389\n",
       "29132   72  0.395597  0.395597    12  7.158239  4.437358\n",
       "29133   68       1.0       0.0    16  7.418035  4.643646\n",
       "\n",
       "[29134 rows x 6 columns]"
      ]
     },
     "execution_count": 200,
     "metadata": {},
     "output_type": "execute_result"
    }
   ],
   "source": [
    "X_train_balanced"
   ]
  },
  {
   "cell_type": "code",
   "execution_count": 201,
   "id": "e0235790",
   "metadata": {},
   "outputs": [
    {
     "data": {
      "text/plain": [
       "0        0\n",
       "1        0\n",
       "2        0\n",
       "3        0\n",
       "4        0\n",
       "        ..\n",
       "29129    1\n",
       "29130    1\n",
       "29131    1\n",
       "29132    1\n",
       "29133    1\n",
       "Name: adverse_effects, Length: 29134, dtype: int32"
      ]
     },
     "execution_count": 201,
     "metadata": {},
     "output_type": "execute_result"
    }
   ],
   "source": [
    "y_train_balanced"
   ]
  },
  {
   "cell_type": "code",
   "execution_count": 202,
   "id": "f5385036",
   "metadata": {},
   "outputs": [],
   "source": [
    "data = StandardScaler().fit_transform(X_train_balanced)"
   ]
  },
  {
   "cell_type": "code",
   "execution_count": 203,
   "id": "b0c322bc",
   "metadata": {},
   "outputs": [],
   "source": [
    "# Split the data into train and test datasets\n",
    "X_train, X_test, y_train, y_test = train_test_split(data, y_train_balanced, test_size=0.3, \n",
    "                                                    random_state=42)"
   ]
  },
  {
   "cell_type": "code",
   "execution_count": 204,
   "id": "45424947",
   "metadata": {},
   "outputs": [
    {
     "data": {
      "text/plain": [
       "array([[ 4.60501542e-01,  5.97291511e-01, -7.26547896e-01,\n",
       "        -2.42941295e-03, -1.80350176e+00, -1.35155163e+00],\n",
       "       [-1.14624896e+00, -1.83966963e+00, -7.26547896e-01,\n",
       "         1.16505128e+00, -3.99211618e-02, -1.00659715e-02],\n",
       "       [ 8.04805220e-01,  5.97291511e-01, -7.26547896e-01,\n",
       "        -1.02397502e+00, -3.99211618e-02, -1.00659715e-02],\n",
       "       ...,\n",
       "       [ 1.60818047e+00,  5.97291511e-01, -7.26547896e-01,\n",
       "        -5.86169758e-01, -4.08384830e-01, -8.68926082e-01],\n",
       "       [ 1.42996997e-03,  5.97291511e-01, -7.26547896e-01,\n",
       "        -8.78039931e-01, -1.36267789e+00, -5.54076449e-01],\n",
       "       [ 1.60818047e+00, -1.79374476e-01, -7.26547896e-01,\n",
       "        -8.78039931e-01, -1.98074957e-01, -3.80698865e-01]])"
      ]
     },
     "execution_count": 204,
     "metadata": {},
     "output_type": "execute_result"
    }
   ],
   "source": [
    "X_train"
   ]
  },
  {
   "cell_type": "code",
   "execution_count": 205,
   "id": "53d654ae",
   "metadata": {},
   "outputs": [
    {
     "name": "stdout",
     "output_type": "stream",
     "text": [
      "[0 1]\n",
      "21560    1\n",
      "26476    1\n",
      "26915    1\n",
      "9707     0\n",
      "19875    1\n",
      "23424    1\n",
      "9410     0\n",
      "11374    0\n",
      "28676    1\n",
      "1760     0\n",
      "Name: adverse_effects, dtype: int32\n"
     ]
    }
   ],
   "source": [
    "print(np.unique(y_train))\n",
    "print(y_train[:10]) "
   ]
  },
  {
   "cell_type": "code",
   "execution_count": 206,
   "id": "cbc61c96",
   "metadata": {},
   "outputs": [
    {
     "data": {
      "text/plain": [
       "(21560    1\n",
       " 26476    1\n",
       " 26915    1\n",
       " 9707     0\n",
       " 19875    1\n",
       "         ..\n",
       " 21575    1\n",
       " 5390     0\n",
       " 860      1\n",
       " 15795    0\n",
       " 23654    1\n",
       " Name: adverse_effects, Length: 20393, dtype: int32,\n",
       " 20241    1\n",
       " 6134     0\n",
       " 6424     0\n",
       " 8943     0\n",
       " 14725    0\n",
       "         ..\n",
       " 10352    0\n",
       " 17933    1\n",
       " 22193    1\n",
       " 9253     0\n",
       " 17638    1\n",
       " Name: adverse_effects, Length: 8741, dtype: int32)"
      ]
     },
     "execution_count": 206,
     "metadata": {},
     "output_type": "execute_result"
    }
   ],
   "source": [
    "y_train, y_test"
   ]
  },
  {
   "cell_type": "code",
   "execution_count": 207,
   "id": "66ead519",
   "metadata": {},
   "outputs": [],
   "source": [
    "classification_evals = {}\n",
    "\n",
    "def evaluate_classification(model, name, X_train, X_test, y_train, y_test):\n",
    "    train_accuracy = metrics.accuracy_score(y_train, model.predict(np.array(X_train)))\n",
    "    test_accuracy = metrics.accuracy_score(y_test, model.predict(np.array(X_test)))\n",
    "    train_precision = metrics.precision_score(y_train, model.predict(np.array(X_train)))\n",
    "    test_precision = metrics.precision_score(y_test, model.predict(np.array(X_test)))\n",
    "    train_recall = metrics.recall_score(y_train, model.predict(np.array(X_train)))\n",
    "    test_recall = metrics.recall_score(y_test, model.predict(np.array(X_test)))\n",
    "\n",
    "    classification_evals[name] = {\n",
    "        'Train Accuracy': train_accuracy,\n",
    "        'Test Accuracy': test_accuracy,\n",
    "        'Train Precision': train_precision,\n",
    "        'Test Precision': test_precision,\n",
    "        'Train Recall': train_recall,\n",
    "        'Test Recall': test_recall\n",
    "    }\n",
    "\n",
    "    print(\"Training Accuracy \" + str(name) + \": {:.2f}\".format(train_accuracy * 100))\n",
    "    print(\"Test Accuracy \" + str(name) + \": {:.2f}\".format(test_accuracy * 100))\n",
    "    print(\"Training Precision \" + str(name) + \": {:.2f}\".format(train_precision * 100))\n",
    "    print(\"Test Precision \" + str(name) + \": {:.2f}\".format(test_precision * 100))\n",
    "    print(\"Training Recall \" + str(name) + \": {:.2f}\".format(train_recall * 100))\n",
    "    print(\"Test Recall \" + str(name) + \": {:.2f}\".format(test_recall * 100))\n",
    "\n",
    "    # Plot the confusion matrix\n",
    "    actual = y_test\n",
    "    predicted = model.predict(np.array(X_test))\n",
    "    confusion_matrix = metrics.confusion_matrix(actual, predicted)\n",
    "    cm_display = ConfusionMatrixDisplay(confusion_matrix=confusion_matrix, display_labels=['Normal','adverse_effect'])\n",
    "\n",
    "    fig, ax = plt.subplots(figsize=(6, 6))\n",
    "    ax.grid(False)\n",
    "    cm_display.plot(ax=ax)"
   ]
  },
  {
   "cell_type": "markdown",
   "id": "e75c9db0",
   "metadata": {},
   "source": [
    "### KNeighbors Classifier"
   ]
  },
  {
   "cell_type": "code",
   "execution_count": 208,
   "id": "cc9ce804",
   "metadata": {},
   "outputs": [
    {
     "name": "stdout",
     "output_type": "stream",
     "text": [
      "Training Accuracy KNeighborsClassifier: 75.89\n",
      "Test Accuracy KNeighborsClassifier: 72.44\n",
      "Training Precision KNeighborsClassifier: 76.00\n",
      "Test Precision KNeighborsClassifier: 72.21\n",
      "Training Recall KNeighborsClassifier: 75.82\n",
      "Test Recall KNeighborsClassifier: 72.53\n"
     ]
    },
    {
     "data": {
      "image/png": "[encoded data removed]",
      "text/plain": [
       "<Figure size 600x600 with 2 Axes>"
      ]
     },
     "metadata": {},
     "output_type": "display_data"
    }
   ],
   "source": [
    "knn = KNeighborsClassifier(n_neighbors=15).fit(X_train, y_train)\n",
    "evaluate_classification(knn, \"KNeighborsClassifier\", X_train, X_test, y_train, y_test)"
   ]
  },
  {
   "cell_type": "markdown",
   "id": "53001f2c",
   "metadata": {},
   "source": [
    "### Decision Tree Classifier"
   ]
  },
  {
   "cell_type": "code",
   "execution_count": 209,
   "id": "a0550091",
   "metadata": {},
   "outputs": [
    {
     "name": "stdout",
     "output_type": "stream",
     "text": [
      "Training Accuracy DecisionTreeClassifier: 90.33\n",
      "Test Accuracy DecisionTreeClassifier: 81.83\n",
      "Training Precision DecisionTreeClassifier: 89.90\n",
      "Test Precision DecisionTreeClassifier: 81.10\n",
      "Training Recall DecisionTreeClassifier: 90.92\n",
      "Test Recall DecisionTreeClassifier: 82.78\n"
     ]
    },
    {
     "data": {
      "image/png": "[encoded data removed]",
      "text/plain": [
       "<Figure size 600x600 with 2 Axes>"
      ]
     },
     "metadata": {},
     "output_type": "display_data"
    }
   ],
   "source": [
    "dt = DecisionTreeClassifier(max_depth=3).fit(X_train, y_train)\n",
    "tdt = DecisionTreeClassifier().fit(X_train, y_train)\n",
    "evaluate_classification(tdt, \"DecisionTreeClassifier\", X_train, X_test, y_train, y_test)"
   ]
  },
  {
   "cell_type": "markdown",
   "id": "f24bffef",
   "metadata": {},
   "source": [
    "### Random Forest"
   ]
  },
  {
   "cell_type": "code",
   "execution_count": 146,
   "id": "3c52b7c9",
   "metadata": {},
   "outputs": [
    {
     "name": "stdout",
     "output_type": "stream",
     "text": [
      "Training Accuracy RandomForestClassifier: 90.33\n",
      "Test Accuracy RandomForestClassifier: 84.46\n",
      "Training Precision RandomForestClassifier: 89.77\n",
      "Test Precision RandomForestClassifier: 85.45\n",
      "Training Recall RandomForestClassifier: 91.07\n",
      "Test Recall RandomForestClassifier: 82.90\n"
     ]
    },
    {
     "data": {
      "image/png": "[encoded data removed]",
      "text/plain": [
       "<Figure size 600x600 with 2 Axes>"
      ]
     },
     "metadata": {},
     "output_type": "display_data"
    }
   ],
   "source": [
    "rf = RandomForestClassifier().fit(X_train, y_train)\n",
    "evaluate_classification(rf, \"RandomForestClassifier\", X_train, X_test, y_train, y_test)"
   ]
  },
  {
   "cell_type": "markdown",
   "id": "108f8c81",
   "metadata": {},
   "source": [
    "### XG_boost"
   ]
  },
  {
   "cell_type": "code",
   "execution_count": 148,
   "id": "07f01f12",
   "metadata": {},
   "outputs": [
    {
     "name": "stdout",
     "output_type": "stream",
     "text": [
      "Training Accuracy XGBClassifier: 86.22\n",
      "Test Accuracy XGBClassifier: 84.40\n",
      "Training Precision XGBClassifier: 90.83\n",
      "Test Precision XGBClassifier: 88.96\n",
      "Training Recall XGBClassifier: 80.63\n",
      "Test Recall XGBClassifier: 78.37\n"
     ]
    },
    {
     "data": {
      "image/png": "[encoded data removed]",
      "text/plain": [
       "<Figure size 600x600 with 2 Axes>"
      ]
     },
     "metadata": {},
     "output_type": "display_data"
    }
   ],
   "source": [
    "xgb = XGBClassifier().fit(X_train, y_train)\n",
    "evaluate_classification(xgb, \"XGBClassifier\", X_train, X_test, y_train, y_test)"
   ]
  },
  {
   "cell_type": "markdown",
   "id": "111d7dc0",
   "metadata": {},
   "source": [
    "### Voting Classifier"
   ]
  },
  {
   "cell_type": "code",
   "execution_count": 150,
   "id": "901c1ccf",
   "metadata": {},
   "outputs": [],
   "source": [
    "# Create base classifiers for the ensemble\n",
    "base_classifier_dt = DecisionTreeClassifier()\n",
    "base_classifier_knn = KNeighborsClassifier(n_neighbors=20)\n",
    "base_classifier_rf = RandomForestClassifier()\n",
    "base_classifier_xgb = XGBClassifier()"
   ]
  },
  {
   "cell_type": "code",
   "execution_count": 151,
   "id": "49eb2657",
   "metadata": {},
   "outputs": [],
   "source": [
    "voting_classifier = VotingClassifier(\n",
    "    estimators=[\n",
    "        ('dt', base_classifier_dt),\n",
    "        ('knn', base_classifier_knn),\n",
    "        ('rf', base_classifier_rf),\n",
    "        ('xgb', base_classifier_xgb)\n",
    "    ],\n",
    "    voting='soft'  # Use 'soft' voting for probabilities, or 'hard' for majority voting\n",
    ")"
   ]
  },
  {
   "cell_type": "code",
   "execution_count": 152,
   "id": "50c25428",
   "metadata": {},
   "outputs": [
    {
     "data": {
      "text/html": [
       "<style>#sk-container-id-1 {color: black;}#sk-container-id-1 pre{padding: 0;}#sk-container-id-1 div.sk-toggleable {background-color: white;}#sk-container-id-1 label.sk-toggleable__label {cursor: pointer;display: block;width: 100%;margin-bottom: 0;padding: 0.3em;box-sizing: border-box;text-align: center;}#sk-container-id-1 label.sk-toggleable__label-arrow:before {content: \"▸\";float: left;margin-right: 0.25em;color: #696969;}#sk-container-id-1 label.sk-toggleable__label-arrow:hover:before {color: black;}#sk-container-id-1 div.sk-estimator:hover label.sk-toggleable__label-arrow:before {color: black;}#sk-container-id-1 div.sk-toggleable__content {max-height: 0;max-width: 0;overflow: hidden;text-align: left;background-color: #f0f8ff;}#sk-container-id-1 div.sk-toggleable__content pre {margin: 0.2em;color: black;border-radius: 0.25em;background-color: #f0f8ff;}#sk-container-id-1 input.sk-toggleable__control:checked~div.sk-toggleable__content {max-height: 200px;max-width: 100%;overflow: auto;}#sk-container-id-1 input.sk-toggleable__control:checked~label.sk-toggleable__label-arrow:before {content: \"▾\";}#sk-container-id-1 div.sk-estimator input.sk-toggleable__control:checked~label.sk-toggleable__label {background-color: #d4ebff;}#sk-container-id-1 div.sk-label input.sk-toggleable__control:checked~label.sk-toggleable__label {background-color: #d4ebff;}#sk-container-id-1 input.sk-hidden--visually {border: 0;clip: rect(1px 1px 1px 1px);clip: rect(1px, 1px, 1px, 1px);height: 1px;margin: -1px;overflow: hidden;padding: 0;position: absolute;width: 1px;}#sk-container-id-1 div.sk-estimator {font-family: monospace;background-color: #f0f8ff;border: 1px dotted black;border-radius: 0.25em;box-sizing: border-box;margin-bottom: 0.5em;}#sk-container-id-1 div.sk-estimator:hover {background-color: #d4ebff;}#sk-container-id-1 div.sk-parallel-item::after {content: \"\";width: 100%;border-bottom: 1px solid gray;flex-grow: 1;}#sk-container-id-1 div.sk-label:hover label.sk-toggleable__label {background-color: #d4ebff;}#sk-container-id-1 div.sk-serial::before {content: \"\";position: absolute;border-left: 1px solid gray;box-sizing: border-box;top: 0;bottom: 0;left: 50%;z-index: 0;}#sk-container-id-1 div.sk-serial {display: flex;flex-direction: column;align-items: center;background-color: white;padding-right: 0.2em;padding-left: 0.2em;position: relative;}#sk-container-id-1 div.sk-item {position: relative;z-index: 1;}#sk-container-id-1 div.sk-parallel {display: flex;align-items: stretch;justify-content: center;background-color: white;position: relative;}#sk-container-id-1 div.sk-item::before, #sk-container-id-1 div.sk-parallel-item::before {content: \"\";position: absolute;border-left: 1px solid gray;box-sizing: border-box;top: 0;bottom: 0;left: 50%;z-index: -1;}#sk-container-id-1 div.sk-parallel-item {display: flex;flex-direction: column;z-index: 1;position: relative;background-color: white;}#sk-container-id-1 div.sk-parallel-item:first-child::after {align-self: flex-end;width: 50%;}#sk-container-id-1 div.sk-parallel-item:last-child::after {align-self: flex-start;width: 50%;}#sk-container-id-1 div.sk-parallel-item:only-child::after {width: 0;}#sk-container-id-1 div.sk-dashed-wrapped {border: 1px dashed gray;margin: 0 0.4em 0.5em 0.4em;box-sizing: border-box;padding-bottom: 0.4em;background-color: white;}#sk-container-id-1 div.sk-label label {font-family: monospace;font-weight: bold;display: inline-block;line-height: 1.2em;}#sk-container-id-1 div.sk-label-container {text-align: center;}#sk-container-id-1 div.sk-container {/* jupyter's `normalize.less` sets `[hidden] { display: none; }` but bootstrap.min.css set `[hidden] { display: none !important; }` so we also need the `!important` here to be able to override the default hidden behavior on the sphinx rendered scikit-learn.org. See: https://github.com/scikit-learn/scikit-learn/issues/21755 */display: inline-block !important;position: relative;}#sk-container-id-1 div.sk-text-repr-fallback {display: none;}</style><div id=\"sk-container-id-1\" class=\"sk-top-container\"><div class=\"sk-text-repr-fallback\"><pre>VotingClassifier(estimators=[(&#x27;dt&#x27;, DecisionTreeClassifier()),\n",
       "                             (&#x27;knn&#x27;, KNeighborsClassifier(n_neighbors=20)),\n",
       "                             (&#x27;rf&#x27;, RandomForestClassifier()),\n",
       "                             (&#x27;xgb&#x27;,\n",
       "                              XGBClassifier(base_score=None, booster=None,\n",
       "                                            callbacks=None,\n",
       "                                            colsample_bylevel=None,\n",
       "                                            colsample_bynode=None,\n",
       "                                            colsample_bytree=None,\n",
       "                                            early_stopping_rounds=None,\n",
       "                                            enable_categorical=False,\n",
       "                                            eval_metric=None,\n",
       "                                            feature_typ...\n",
       "                                            gpu_id=None, grow_policy=None,\n",
       "                                            importance_type=None,\n",
       "                                            interaction_constraints=None,\n",
       "                                            learning_rate=None, max_bin=None,\n",
       "                                            max_cat_threshold=None,\n",
       "                                            max_cat_to_onehot=None,\n",
       "                                            max_delta_step=None, max_depth=None,\n",
       "                                            max_leaves=None,\n",
       "                                            min_child_weight=None, missing=nan,\n",
       "                                            monotone_constraints=None,\n",
       "                                            n_estimators=100, n_jobs=None,\n",
       "                                            num_parallel_tree=None,\n",
       "                                            predictor=None, random_state=None, ...))],\n",
       "                 voting=&#x27;soft&#x27;)</pre><b>In a Jupyter environment, please rerun this cell to show the HTML representation or trust the notebook. <br />On GitHub, the HTML representation is unable to render, please try loading this page with nbviewer.org.</b></div><div class=\"sk-container\" hidden><div class=\"sk-item sk-dashed-wrapped\"><div class=\"sk-label-container\"><div class=\"sk-label sk-toggleable\"><input class=\"sk-toggleable__control sk-hidden--visually\" id=\"sk-estimator-id-1\" type=\"checkbox\" ><label for=\"sk-estimator-id-1\" class=\"sk-toggleable__label sk-toggleable__label-arrow\">VotingClassifier</label><div class=\"sk-toggleable__content\"><pre>VotingClassifier(estimators=[(&#x27;dt&#x27;, DecisionTreeClassifier()),\n",
       "                             (&#x27;knn&#x27;, KNeighborsClassifier(n_neighbors=20)),\n",
       "                             (&#x27;rf&#x27;, RandomForestClassifier()),\n",
       "                             (&#x27;xgb&#x27;,\n",
       "                              XGBClassifier(base_score=None, booster=None,\n",
       "                                            callbacks=None,\n",
       "                                            colsample_bylevel=None,\n",
       "                                            colsample_bynode=None,\n",
       "                                            colsample_bytree=None,\n",
       "                                            early_stopping_rounds=None,\n",
       "                                            enable_categorical=False,\n",
       "                                            eval_metric=None,\n",
       "                                            feature_typ...\n",
       "                                            gpu_id=None, grow_policy=None,\n",
       "                                            importance_type=None,\n",
       "                                            interaction_constraints=None,\n",
       "                                            learning_rate=None, max_bin=None,\n",
       "                                            max_cat_threshold=None,\n",
       "                                            max_cat_to_onehot=None,\n",
       "                                            max_delta_step=None, max_depth=None,\n",
       "                                            max_leaves=None,\n",
       "                                            min_child_weight=None, missing=nan,\n",
       "                                            monotone_constraints=None,\n",
       "                                            n_estimators=100, n_jobs=None,\n",
       "                                            num_parallel_tree=None,\n",
       "                                            predictor=None, random_state=None, ...))],\n",
       "                 voting=&#x27;soft&#x27;)</pre></div></div></div><div class=\"sk-parallel\"><div class=\"sk-parallel-item\"><div class=\"sk-item\"><div class=\"sk-label-container\"><div class=\"sk-label sk-toggleable\"><label>dt</label></div></div><div class=\"sk-serial\"><div class=\"sk-item\"><div class=\"sk-estimator sk-toggleable\"><input class=\"sk-toggleable__control sk-hidden--visually\" id=\"sk-estimator-id-2\" type=\"checkbox\" ><label for=\"sk-estimator-id-2\" class=\"sk-toggleable__label sk-toggleable__label-arrow\">DecisionTreeClassifier</label><div class=\"sk-toggleable__content\"><pre>DecisionTreeClassifier()</pre></div></div></div></div></div></div><div class=\"sk-parallel-item\"><div class=\"sk-item\"><div class=\"sk-label-container\"><div class=\"sk-label sk-toggleable\"><label>knn</label></div></div><div class=\"sk-serial\"><div class=\"sk-item\"><div class=\"sk-estimator sk-toggleable\"><input class=\"sk-toggleable__control sk-hidden--visually\" id=\"sk-estimator-id-3\" type=\"checkbox\" ><label for=\"sk-estimator-id-3\" class=\"sk-toggleable__label sk-toggleable__label-arrow\">KNeighborsClassifier</label><div class=\"sk-toggleable__content\"><pre>KNeighborsClassifier(n_neighbors=20)</pre></div></div></div></div></div></div><div class=\"sk-parallel-item\"><div class=\"sk-item\"><div class=\"sk-label-container\"><div class=\"sk-label sk-toggleable\"><label>rf</label></div></div><div class=\"sk-serial\"><div class=\"sk-item\"><div class=\"sk-estimator sk-toggleable\"><input class=\"sk-toggleable__control sk-hidden--visually\" id=\"sk-estimator-id-4\" type=\"checkbox\" ><label for=\"sk-estimator-id-4\" class=\"sk-toggleable__label sk-toggleable__label-arrow\">RandomForestClassifier</label><div class=\"sk-toggleable__content\"><pre>RandomForestClassifier()</pre></div></div></div></div></div></div><div class=\"sk-parallel-item\"><div class=\"sk-item\"><div class=\"sk-label-container\"><div class=\"sk-label sk-toggleable\"><label>xgb</label></div></div><div class=\"sk-serial\"><div class=\"sk-item\"><div class=\"sk-estimator sk-toggleable\"><input class=\"sk-toggleable__control sk-hidden--visually\" id=\"sk-estimator-id-5\" type=\"checkbox\" ><label for=\"sk-estimator-id-5\" class=\"sk-toggleable__label sk-toggleable__label-arrow\">XGBClassifier</label><div class=\"sk-toggleable__content\"><pre>XGBClassifier(base_score=None, booster=None, callbacks=None,\n",
       "              colsample_bylevel=None, colsample_bynode=None,\n",
       "              colsample_bytree=None, early_stopping_rounds=None,\n",
       "              enable_categorical=False, eval_metric=None, feature_types=None,\n",
       "              gamma=None, gpu_id=None, grow_policy=None, importance_type=None,\n",
       "              interaction_constraints=None, learning_rate=None, max_bin=None,\n",
       "              max_cat_threshold=None, max_cat_to_onehot=None,\n",
       "              max_delta_step=None, max_depth=None, max_leaves=None,\n",
       "              min_child_weight=None, missing=nan, monotone_constraints=None,\n",
       "              n_estimators=100, n_jobs=None, num_parallel_tree=None,\n",
       "              predictor=None, random_state=None, ...)</pre></div></div></div></div></div></div></div></div></div></div>"
      ],
      "text/plain": [
       "VotingClassifier(estimators=[('dt', DecisionTreeClassifier()),\n",
       "                             ('knn', KNeighborsClassifier(n_neighbors=20)),\n",
       "                             ('rf', RandomForestClassifier()),\n",
       "                             ('xgb',\n",
       "                              XGBClassifier(base_score=None, booster=None,\n",
       "                                            callbacks=None,\n",
       "                                            colsample_bylevel=None,\n",
       "                                            colsample_bynode=None,\n",
       "                                            colsample_bytree=None,\n",
       "                                            early_stopping_rounds=None,\n",
       "                                            enable_categorical=False,\n",
       "                                            eval_metric=None,\n",
       "                                            feature_typ...\n",
       "                                            gpu_id=None, grow_policy=None,\n",
       "                                            importance_type=None,\n",
       "                                            interaction_constraints=None,\n",
       "                                            learning_rate=None, max_bin=None,\n",
       "                                            max_cat_threshold=None,\n",
       "                                            max_cat_to_onehot=None,\n",
       "                                            max_delta_step=None, max_depth=None,\n",
       "                                            max_leaves=None,\n",
       "                                            min_child_weight=None, missing=nan,\n",
       "                                            monotone_constraints=None,\n",
       "                                            n_estimators=100, n_jobs=None,\n",
       "                                            num_parallel_tree=None,\n",
       "                                            predictor=None, random_state=None, ...))],\n",
       "                 voting='soft')"
      ]
     },
     "execution_count": 152,
     "metadata": {},
     "output_type": "execute_result"
    }
   ],
   "source": [
    "# Fit the voting ensemble on the training data\n",
    "voting_classifier.fit(X_train, y_train)"
   ]
  },
  {
   "cell_type": "code",
   "execution_count": 153,
   "id": "5c011711",
   "metadata": {
    "scrolled": true
   },
   "outputs": [
    {
     "name": "stdout",
     "output_type": "stream",
     "text": [
      "Training Accuracy VotingClassifier: 90.17\n",
      "Test Accuracy VotingClassifier: 84.33\n",
      "Training Precision VotingClassifier: 90.45\n",
      "Test Precision VotingClassifier: 85.12\n",
      "Training Recall VotingClassifier: 89.86\n",
      "Test Recall VotingClassifier: 83.01\n"
     ]
    },
    {
     "data": {
      "image/png": "[encoded data removed]",
      "text/plain": [
       "<Figure size 600x600 with 2 Axes>"
      ]
     },
     "metadata": {},
     "output_type": "display_data"
    }
   ],
   "source": [
    "# Evaluate the voting classifier\n",
    "evaluate_classification(voting_classifier, \"VotingClassifier\", X_train, X_test, y_train, y_test)"
   ]
  },
  {
   "cell_type": "code",
   "execution_count": null,
   "id": "94257b41",
   "metadata": {},
   "outputs": [],
   "source": []
  }
 ],
 "metadata": {
  "colab": {
   "name": "Welcome to DataCamp Workspaces.ipynb",
   "provenance": []
  },
  "kernelspec": {
   "display_name": "Python 3 (ipykernel)",
   "language": "python",
   "name": "python3"
  },
  "language_info": {
   "codemirror_mode": {
    "name": "ipython",
    "version": 3
   },
   "file_extension": ".py",
   "mimetype": "text/x-python",
   "name": "python",
   "nbconvert_exporter": "python",
   "pygments_lexer": "ipython3",
   "version": "3.11.4"
  }
 },
 "nbformat": 4,
 "nbformat_minor": 5
}
